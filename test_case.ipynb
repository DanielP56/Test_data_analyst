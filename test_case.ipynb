{
 "cells": [
  {
   "cell_type": "markdown",
   "id": "36dfca7f",
   "metadata": {},
   "source": [
    "# Import Library"
   ]
  },
  {
   "cell_type": "code",
   "execution_count": 1,
   "id": "578df0ff",
   "metadata": {},
   "outputs": [],
   "source": [
    "import pandas as pd\n",
    "import numpy as np\n",
    "from datetime import datetime\n",
    "import matplotlib.pyplot as plt\n",
    "import seaborn as sns\n",
    "import squarify\n",
    "pd.set_option('display.float_format', '{:.2f}'.format)\n",
    "import warnings\n",
    "warnings.filterwarnings(\"ignore\")"
   ]
  },
  {
   "cell_type": "markdown",
   "id": "2e380a7d",
   "metadata": {},
   "source": [
    "# Load Data"
   ]
  },
  {
   "cell_type": "code",
   "execution_count": 2,
   "id": "0166684a",
   "metadata": {},
   "outputs": [],
   "source": [
    "df_ori = pd.read_csv('test-case.csv')\n",
    "df = df_ori.copy()"
   ]
  },
  {
   "cell_type": "code",
   "execution_count": 3,
   "id": "001a76b0",
   "metadata": {},
   "outputs": [],
   "source": [
    "# Inspect Data"
   ]
  },
  {
   "cell_type": "code",
   "execution_count": 4,
   "id": "1a107959",
   "metadata": {
    "scrolled": true
   },
   "outputs": [
    {
     "data": {
      "text/html": [
       "<div>\n",
       "<style scoped>\n",
       "    .dataframe tbody tr th:only-of-type {\n",
       "        vertical-align: middle;\n",
       "    }\n",
       "\n",
       "    .dataframe tbody tr th {\n",
       "        vertical-align: top;\n",
       "    }\n",
       "\n",
       "    .dataframe thead th {\n",
       "        text-align: right;\n",
       "    }\n",
       "</style>\n",
       "<table border=\"1\" class=\"dataframe\">\n",
       "  <thead>\n",
       "    <tr style=\"text-align: right;\">\n",
       "      <th></th>\n",
       "      <th>customer_name</th>\n",
       "      <th>dealer_name</th>\n",
       "      <th>unit_description</th>\n",
       "      <th>due_date</th>\n",
       "      <th>status</th>\n",
       "      <th>installment</th>\n",
       "      <th>cost_price</th>\n",
       "    </tr>\n",
       "  </thead>\n",
       "  <tbody>\n",
       "    <tr>\n",
       "      <th>0</th>\n",
       "      <td>AMRUL QOIS</td>\n",
       "      <td>HYUNDAI MAMPANG</td>\n",
       "      <td>HYUNDAI, CRETA PRIME 1.5 SINGLE TONE IVT, 2022</td>\n",
       "      <td>10/27/2024</td>\n",
       "      <td>Operational</td>\n",
       "      <td>8,085,000</td>\n",
       "      <td>404,000,000</td>\n",
       "    </tr>\n",
       "    <tr>\n",
       "      <th>1</th>\n",
       "      <td>AZIZATUL MUNIFAH</td>\n",
       "      <td>HONDA MANDALASENA</td>\n",
       "      <td>HONDA, ALL NEW BR-V E CVT, 2023</td>\n",
       "      <td>11/10/2024</td>\n",
       "      <td>Operational</td>\n",
       "      <td>4,858,000</td>\n",
       "      <td>330,450,000</td>\n",
       "    </tr>\n",
       "    <tr>\n",
       "      <th>2</th>\n",
       "      <td>BHARATH SRINIVASAN SETHURAMAN</td>\n",
       "      <td>HONDA MANDIRI BOGOR</td>\n",
       "      <td>HONDA, ALL NEW CRV 1.5 TURBO PRESTIGE, 2022</td>\n",
       "      <td>11/15/2024</td>\n",
       "      <td>Operational</td>\n",
       "      <td>9,266,000</td>\n",
       "      <td>653,400,000</td>\n",
       "    </tr>\n",
       "    <tr>\n",
       "      <th>3</th>\n",
       "      <td>MARSUDIN</td>\n",
       "      <td>HONDA CIKARANG</td>\n",
       "      <td>HONDA, ALL NEW CITY HATCHBACK RS CVT, 2021</td>\n",
       "      <td>10/27/2024</td>\n",
       "      <td>Operational</td>\n",
       "      <td>5,881,000</td>\n",
       "      <td>302,000,000</td>\n",
       "    </tr>\n",
       "    <tr>\n",
       "      <th>4</th>\n",
       "      <td>NI NYOMAN PUJI ASTUTI</td>\n",
       "      <td>HONDA BINTANG TABANAN</td>\n",
       "      <td>HONDA, ALL NEW BRIO E CVT, 2024</td>\n",
       "      <td>11/25/2024</td>\n",
       "      <td>Operational</td>\n",
       "      <td>6,946,000</td>\n",
       "      <td>228,200,000</td>\n",
       "    </tr>\n",
       "  </tbody>\n",
       "</table>\n",
       "</div>"
      ],
      "text/plain": [
       "                    customer_name            dealer_name  \\\n",
       "0                      AMRUL QOIS        HYUNDAI MAMPANG   \n",
       "1                AZIZATUL MUNIFAH      HONDA MANDALASENA   \n",
       "2   BHARATH SRINIVASAN SETHURAMAN    HONDA MANDIRI BOGOR   \n",
       "3                        MARSUDIN         HONDA CIKARANG   \n",
       "4           NI NYOMAN PUJI ASTUTI  HONDA BINTANG TABANAN   \n",
       "\n",
       "                                 unit_description    due_date       status  \\\n",
       "0  HYUNDAI, CRETA PRIME 1.5 SINGLE TONE IVT, 2022  10/27/2024  Operational   \n",
       "1                 HONDA, ALL NEW BR-V E CVT, 2023  11/10/2024  Operational   \n",
       "2     HONDA, ALL NEW CRV 1.5 TURBO PRESTIGE, 2022  11/15/2024  Operational   \n",
       "3      HONDA, ALL NEW CITY HATCHBACK RS CVT, 2021  10/27/2024  Operational   \n",
       "4                 HONDA, ALL NEW BRIO E CVT, 2024  11/25/2024  Operational   \n",
       "\n",
       "   installment     cost_price   \n",
       "0    8,085,000    404,000,000   \n",
       "1    4,858,000    330,450,000   \n",
       "2    9,266,000    653,400,000   \n",
       "3    5,881,000    302,000,000   \n",
       "4    6,946,000    228,200,000   "
      ]
     },
     "execution_count": 4,
     "metadata": {},
     "output_type": "execute_result"
    }
   ],
   "source": [
    "df.head()"
   ]
  },
  {
   "cell_type": "code",
   "execution_count": 5,
   "id": "8066a727",
   "metadata": {},
   "outputs": [
    {
     "data": {
      "text/plain": [
       "(30933, 7)"
      ]
     },
     "execution_count": 5,
     "metadata": {},
     "output_type": "execute_result"
    }
   ],
   "source": [
    "df.shape"
   ]
  },
  {
   "cell_type": "code",
   "execution_count": 6,
   "id": "3b60d5c3",
   "metadata": {
    "scrolled": true
   },
   "outputs": [
    {
     "data": {
      "text/plain": [
       "Index(['customer_name', 'dealer_name', 'unit_description', 'due_date',\n",
       "       'status', ' installment ', ' cost_price '],\n",
       "      dtype='object')"
      ]
     },
     "execution_count": 6,
     "metadata": {},
     "output_type": "execute_result"
    }
   ],
   "source": [
    "df.columns"
   ]
  },
  {
   "cell_type": "code",
   "execution_count": 7,
   "id": "4d0378fa",
   "metadata": {},
   "outputs": [],
   "source": [
    "# Fixing columns name\n",
    "df.columns = [col.strip('* ') for col in df.columns]"
   ]
  },
  {
   "cell_type": "code",
   "execution_count": 8,
   "id": "0027a1cc",
   "metadata": {},
   "outputs": [
    {
     "name": "stdout",
     "output_type": "stream",
     "text": [
      "<class 'pandas.core.frame.DataFrame'>\n",
      "RangeIndex: 30933 entries, 0 to 30932\n",
      "Data columns (total 7 columns):\n",
      " #   Column            Non-Null Count  Dtype \n",
      "---  ------            --------------  ----- \n",
      " 0   customer_name     30933 non-null  object\n",
      " 1   dealer_name       30933 non-null  object\n",
      " 2   unit_description  30933 non-null  object\n",
      " 3   due_date          29197 non-null  object\n",
      " 4   status            30933 non-null  object\n",
      " 5   installment       30933 non-null  object\n",
      " 6   cost_price        30933 non-null  object\n",
      "dtypes: object(7)\n",
      "memory usage: 1.7+ MB\n"
     ]
    }
   ],
   "source": [
    "df.info()"
   ]
  },
  {
   "cell_type": "markdown",
   "id": "4f4df5ab",
   "metadata": {},
   "source": [
    "# No 1"
   ]
  },
  {
   "cell_type": "markdown",
   "id": "8488b663",
   "metadata": {},
   "source": [
    "Perform data cleaning on the dataset, starting to address missing values, duplication, or formatting errors."
   ]
  },
  {
   "cell_type": "markdown",
   "id": "ad11e049",
   "metadata": {},
   "source": [
    "## Change Data Type"
   ]
  },
  {
   "cell_type": "code",
   "execution_count": 9,
   "id": "b024f564",
   "metadata": {},
   "outputs": [],
   "source": [
    "def str_to_date(date):\n",
    "    try:\n",
    "        dt = datetime.strptime(date, \"%m/%d/%Y\")\n",
    "        result = dt.strftime(\"%m-%d-%Y\")\n",
    "        return result\n",
    "    except:\n",
    "        None"
   ]
  },
  {
   "cell_type": "code",
   "execution_count": 10,
   "id": "1b17886d",
   "metadata": {},
   "outputs": [],
   "source": [
    "# Change object to float\n",
    "df.cost_price = df.cost_price.apply(lambda x: float(x.replace(',','')))\n",
    "df.installment = df.installment.apply(lambda x: float(x.replace(',','')))"
   ]
  },
  {
   "cell_type": "code",
   "execution_count": 11,
   "id": "55100fc6",
   "metadata": {},
   "outputs": [],
   "source": [
    "# Change due_date dtype\n",
    "df.due_date = df.due_date.apply(lambda x: str_to_date(x))"
   ]
  },
  {
   "cell_type": "code",
   "execution_count": 12,
   "id": "5ed41d6a",
   "metadata": {},
   "outputs": [
    {
     "data": {
      "text/html": [
       "<div>\n",
       "<style scoped>\n",
       "    .dataframe tbody tr th:only-of-type {\n",
       "        vertical-align: middle;\n",
       "    }\n",
       "\n",
       "    .dataframe tbody tr th {\n",
       "        vertical-align: top;\n",
       "    }\n",
       "\n",
       "    .dataframe thead th {\n",
       "        text-align: right;\n",
       "    }\n",
       "</style>\n",
       "<table border=\"1\" class=\"dataframe\">\n",
       "  <thead>\n",
       "    <tr style=\"text-align: right;\">\n",
       "      <th></th>\n",
       "      <th>customer_name</th>\n",
       "      <th>dealer_name</th>\n",
       "      <th>unit_description</th>\n",
       "      <th>due_date</th>\n",
       "      <th>status</th>\n",
       "      <th>installment</th>\n",
       "      <th>cost_price</th>\n",
       "    </tr>\n",
       "  </thead>\n",
       "  <tbody>\n",
       "    <tr>\n",
       "      <th>0</th>\n",
       "      <td>AMRUL QOIS</td>\n",
       "      <td>HYUNDAI MAMPANG</td>\n",
       "      <td>HYUNDAI, CRETA PRIME 1.5 SINGLE TONE IVT, 2022</td>\n",
       "      <td>10-27-2024</td>\n",
       "      <td>Operational</td>\n",
       "      <td>8085000.00</td>\n",
       "      <td>404000000.00</td>\n",
       "    </tr>\n",
       "    <tr>\n",
       "      <th>1</th>\n",
       "      <td>AZIZATUL MUNIFAH</td>\n",
       "      <td>HONDA MANDALASENA</td>\n",
       "      <td>HONDA, ALL NEW BR-V E CVT, 2023</td>\n",
       "      <td>11-10-2024</td>\n",
       "      <td>Operational</td>\n",
       "      <td>4858000.00</td>\n",
       "      <td>330450000.00</td>\n",
       "    </tr>\n",
       "    <tr>\n",
       "      <th>2</th>\n",
       "      <td>BHARATH SRINIVASAN SETHURAMAN</td>\n",
       "      <td>HONDA MANDIRI BOGOR</td>\n",
       "      <td>HONDA, ALL NEW CRV 1.5 TURBO PRESTIGE, 2022</td>\n",
       "      <td>11-15-2024</td>\n",
       "      <td>Operational</td>\n",
       "      <td>9266000.00</td>\n",
       "      <td>653400000.00</td>\n",
       "    </tr>\n",
       "    <tr>\n",
       "      <th>3</th>\n",
       "      <td>MARSUDIN</td>\n",
       "      <td>HONDA CIKARANG</td>\n",
       "      <td>HONDA, ALL NEW CITY HATCHBACK RS CVT, 2021</td>\n",
       "      <td>10-27-2024</td>\n",
       "      <td>Operational</td>\n",
       "      <td>5881000.00</td>\n",
       "      <td>302000000.00</td>\n",
       "    </tr>\n",
       "    <tr>\n",
       "      <th>4</th>\n",
       "      <td>NI NYOMAN PUJI ASTUTI</td>\n",
       "      <td>HONDA BINTANG TABANAN</td>\n",
       "      <td>HONDA, ALL NEW BRIO E CVT, 2024</td>\n",
       "      <td>11-25-2024</td>\n",
       "      <td>Operational</td>\n",
       "      <td>6946000.00</td>\n",
       "      <td>228200000.00</td>\n",
       "    </tr>\n",
       "  </tbody>\n",
       "</table>\n",
       "</div>"
      ],
      "text/plain": [
       "                    customer_name            dealer_name  \\\n",
       "0                      AMRUL QOIS        HYUNDAI MAMPANG   \n",
       "1                AZIZATUL MUNIFAH      HONDA MANDALASENA   \n",
       "2   BHARATH SRINIVASAN SETHURAMAN    HONDA MANDIRI BOGOR   \n",
       "3                        MARSUDIN         HONDA CIKARANG   \n",
       "4           NI NYOMAN PUJI ASTUTI  HONDA BINTANG TABANAN   \n",
       "\n",
       "                                 unit_description    due_date       status  \\\n",
       "0  HYUNDAI, CRETA PRIME 1.5 SINGLE TONE IVT, 2022  10-27-2024  Operational   \n",
       "1                 HONDA, ALL NEW BR-V E CVT, 2023  11-10-2024  Operational   \n",
       "2     HONDA, ALL NEW CRV 1.5 TURBO PRESTIGE, 2022  11-15-2024  Operational   \n",
       "3      HONDA, ALL NEW CITY HATCHBACK RS CVT, 2021  10-27-2024  Operational   \n",
       "4                 HONDA, ALL NEW BRIO E CVT, 2024  11-25-2024  Operational   \n",
       "\n",
       "   installment   cost_price  \n",
       "0   8085000.00 404000000.00  \n",
       "1   4858000.00 330450000.00  \n",
       "2   9266000.00 653400000.00  \n",
       "3   5881000.00 302000000.00  \n",
       "4   6946000.00 228200000.00  "
      ]
     },
     "execution_count": 12,
     "metadata": {},
     "output_type": "execute_result"
    }
   ],
   "source": [
    "df.head()"
   ]
  },
  {
   "cell_type": "markdown",
   "id": "79276286",
   "metadata": {},
   "source": [
    "## Missing Value"
   ]
  },
  {
   "cell_type": "code",
   "execution_count": 13,
   "id": "7a1aca49",
   "metadata": {},
   "outputs": [
    {
     "data": {
      "text/plain": [
       "customer_name          0\n",
       "dealer_name            0\n",
       "unit_description       0\n",
       "due_date            1736\n",
       "status                 0\n",
       " installment           0\n",
       " cost_price            0\n",
       "dtype: int64"
      ]
     },
     "execution_count": 13,
     "metadata": {},
     "output_type": "execute_result"
    }
   ],
   "source": [
    "df_ori.isnull().sum()"
   ]
  },
  {
   "cell_type": "code",
   "execution_count": 14,
   "id": "88bf4529",
   "metadata": {},
   "outputs": [
    {
     "data": {
      "text/plain": [
       "Incomplete                 1719\n",
       "Expired with Due Amount      10\n",
       "Write-off                     7\n",
       "Name: status, dtype: int64"
      ]
     },
     "execution_count": 14,
     "metadata": {},
     "output_type": "execute_result"
    }
   ],
   "source": [
    "df[df.due_date.isnull()].status.value_counts()"
   ]
  },
  {
   "cell_type": "code",
   "execution_count": 15,
   "id": "0a94a736",
   "metadata": {},
   "outputs": [
    {
     "data": {
      "text/html": [
       "<div>\n",
       "<style scoped>\n",
       "    .dataframe tbody tr th:only-of-type {\n",
       "        vertical-align: middle;\n",
       "    }\n",
       "\n",
       "    .dataframe tbody tr th {\n",
       "        vertical-align: top;\n",
       "    }\n",
       "\n",
       "    .dataframe thead th {\n",
       "        text-align: right;\n",
       "    }\n",
       "</style>\n",
       "<table border=\"1\" class=\"dataframe\">\n",
       "  <thead>\n",
       "    <tr style=\"text-align: right;\">\n",
       "      <th></th>\n",
       "      <th>customer_name</th>\n",
       "      <th>dealer_name</th>\n",
       "      <th>unit_description</th>\n",
       "      <th>due_date</th>\n",
       "      <th>status</th>\n",
       "      <th>installment</th>\n",
       "      <th>cost_price</th>\n",
       "    </tr>\n",
       "  </thead>\n",
       "  <tbody>\n",
       "  </tbody>\n",
       "</table>\n",
       "</div>"
      ],
      "text/plain": [
       "Empty DataFrame\n",
       "Columns: [customer_name, dealer_name, unit_description, due_date, status, installment, cost_price]\n",
       "Index: []"
      ]
     },
     "execution_count": 15,
     "metadata": {},
     "output_type": "execute_result"
    }
   ],
   "source": [
    "# All incomplete status has Null due_date\n",
    "df[(df.status == 'Incomplete') & (df.due_date.notna())].head()"
   ]
  },
  {
   "cell_type": "markdown",
   "id": "66e4ead9",
   "metadata": {},
   "source": [
    "## Duplicate data"
   ]
  },
  {
   "cell_type": "code",
   "execution_count": 16,
   "id": "3ce10409",
   "metadata": {},
   "outputs": [],
   "source": [
    "# Check duplicate data and the number of duplicated data"
   ]
  },
  {
   "cell_type": "code",
   "execution_count": 17,
   "id": "eac3a1dc",
   "metadata": {},
   "outputs": [
    {
     "data": {
      "text/plain": [
       "True"
      ]
     },
     "execution_count": 17,
     "metadata": {},
     "output_type": "execute_result"
    }
   ],
   "source": [
    "df.duplicated(subset = ['customer_name', 'dealer_name',\n",
    "                        'unit_description', 'due_date','status',\n",
    "                        'installment', 'cost_price']).any()"
   ]
  },
  {
   "cell_type": "code",
   "execution_count": 18,
   "id": "3b311124",
   "metadata": {},
   "outputs": [
    {
     "data": {
      "text/plain": [
       "527"
      ]
     },
     "execution_count": 18,
     "metadata": {},
     "output_type": "execute_result"
    }
   ],
   "source": [
    "df.duplicated(subset = ['customer_name', 'dealer_name',\n",
    "                        'unit_description', 'due_date','status',\n",
    "                        'installment', 'cost_price']).sum()"
   ]
  },
  {
   "cell_type": "code",
   "execution_count": 19,
   "id": "f5b5d496",
   "metadata": {},
   "outputs": [
    {
     "data": {
      "text/html": [
       "<div>\n",
       "<style scoped>\n",
       "    .dataframe tbody tr th:only-of-type {\n",
       "        vertical-align: middle;\n",
       "    }\n",
       "\n",
       "    .dataframe tbody tr th {\n",
       "        vertical-align: top;\n",
       "    }\n",
       "\n",
       "    .dataframe thead th {\n",
       "        text-align: right;\n",
       "    }\n",
       "</style>\n",
       "<table border=\"1\" class=\"dataframe\">\n",
       "  <thead>\n",
       "    <tr style=\"text-align: right;\">\n",
       "      <th></th>\n",
       "      <th>customer_name</th>\n",
       "      <th>dealer_name</th>\n",
       "      <th>unit_description</th>\n",
       "      <th>due_date</th>\n",
       "      <th>status</th>\n",
       "      <th>installment</th>\n",
       "      <th>cost_price</th>\n",
       "    </tr>\n",
       "  </thead>\n",
       "  <tbody>\n",
       "    <tr>\n",
       "      <th>3855</th>\n",
       "      <td>AYU LESTARI</td>\n",
       "      <td>HONDA NAGOYA</td>\n",
       "      <td>HONDA, BRIO SATYA 1.2 E CVT, 2023</td>\n",
       "      <td>10-27-2024</td>\n",
       "      <td>Operational</td>\n",
       "      <td>4750000.00</td>\n",
       "      <td>244500000.00</td>\n",
       "    </tr>\n",
       "    <tr>\n",
       "      <th>5040</th>\n",
       "      <td>CV. AMI GROUP</td>\n",
       "      <td>PT. GITA RIAU MAKMUR</td>\n",
       "      <td>HINO, DUTRO 136 HDX PTO + DUMP, 2022</td>\n",
       "      <td>08-27-2024</td>\n",
       "      <td>Operational</td>\n",
       "      <td>13183000.00</td>\n",
       "      <td>560000000.00</td>\n",
       "    </tr>\n",
       "  </tbody>\n",
       "</table>\n",
       "</div>"
      ],
      "text/plain": [
       "      customer_name           dealer_name  \\\n",
       "3855    AYU LESTARI          HONDA NAGOYA   \n",
       "5040  CV. AMI GROUP  PT. GITA RIAU MAKMUR   \n",
       "\n",
       "                          unit_description    due_date       status  \\\n",
       "3855     HONDA, BRIO SATYA 1.2 E CVT, 2023  10-27-2024  Operational   \n",
       "5040  HINO, DUTRO 136 HDX PTO + DUMP, 2022  08-27-2024  Operational   \n",
       "\n",
       "      installment   cost_price  \n",
       "3855   4750000.00 244500000.00  \n",
       "5040  13183000.00 560000000.00  "
      ]
     },
     "execution_count": 19,
     "metadata": {},
     "output_type": "execute_result"
    }
   ],
   "source": [
    "df[df.duplicated(subset = ['customer_name', 'dealer_name',\n",
    "                        'unit_description', 'due_date','status',\n",
    "                        'installment', 'cost_price'])].head(2)"
   ]
  },
  {
   "cell_type": "code",
   "execution_count": 20,
   "id": "3f131210",
   "metadata": {},
   "outputs": [
    {
     "data": {
      "text/html": [
       "<div>\n",
       "<style scoped>\n",
       "    .dataframe tbody tr th:only-of-type {\n",
       "        vertical-align: middle;\n",
       "    }\n",
       "\n",
       "    .dataframe tbody tr th {\n",
       "        vertical-align: top;\n",
       "    }\n",
       "\n",
       "    .dataframe thead th {\n",
       "        text-align: right;\n",
       "    }\n",
       "</style>\n",
       "<table border=\"1\" class=\"dataframe\">\n",
       "  <thead>\n",
       "    <tr style=\"text-align: right;\">\n",
       "      <th></th>\n",
       "      <th>customer_name</th>\n",
       "      <th>dealer_name</th>\n",
       "      <th>unit_description</th>\n",
       "      <th>due_date</th>\n",
       "      <th>status</th>\n",
       "      <th>installment</th>\n",
       "      <th>cost_price</th>\n",
       "    </tr>\n",
       "  </thead>\n",
       "  <tbody>\n",
       "    <tr>\n",
       "      <th>3853</th>\n",
       "      <td>AYU LESTARI</td>\n",
       "      <td>INT - CAB MEDAN - MUHAMMAD INSAN KAMIL NASUTION</td>\n",
       "      <td>HONDA, BRIO SATYA 1.2 E MT CKD, 2022</td>\n",
       "      <td>11-08-2024</td>\n",
       "      <td>Operational</td>\n",
       "      <td>4055000.00</td>\n",
       "      <td>163000000.00</td>\n",
       "    </tr>\n",
       "    <tr>\n",
       "      <th>3854</th>\n",
       "      <td>AYU LESTARI</td>\n",
       "      <td>HONDA NAGOYA</td>\n",
       "      <td>HONDA, BRIO SATYA 1.2 E CVT, 2023</td>\n",
       "      <td>10-27-2024</td>\n",
       "      <td>Operational</td>\n",
       "      <td>4750000.00</td>\n",
       "      <td>244500000.00</td>\n",
       "    </tr>\n",
       "    <tr>\n",
       "      <th>3855</th>\n",
       "      <td>AYU LESTARI</td>\n",
       "      <td>HONDA NAGOYA</td>\n",
       "      <td>HONDA, BRIO SATYA 1.2 E CVT, 2023</td>\n",
       "      <td>10-27-2024</td>\n",
       "      <td>Operational</td>\n",
       "      <td>4750000.00</td>\n",
       "      <td>244500000.00</td>\n",
       "    </tr>\n",
       "    <tr>\n",
       "      <th>3856</th>\n",
       "      <td>AYU LESTARI</td>\n",
       "      <td>AUTOJOY</td>\n",
       "      <td>HONDA, CITY E AT, 2012</td>\n",
       "      <td>11-25-2024</td>\n",
       "      <td>Operational</td>\n",
       "      <td>3149000.00</td>\n",
       "      <td>157000000.00</td>\n",
       "    </tr>\n",
       "  </tbody>\n",
       "</table>\n",
       "</div>"
      ],
      "text/plain": [
       "     customer_name                                      dealer_name  \\\n",
       "3853   AYU LESTARI  INT - CAB MEDAN - MUHAMMAD INSAN KAMIL NASUTION   \n",
       "3854   AYU LESTARI                                     HONDA NAGOYA   \n",
       "3855   AYU LESTARI                                     HONDA NAGOYA   \n",
       "3856   AYU LESTARI                                          AUTOJOY   \n",
       "\n",
       "                          unit_description    due_date       status  \\\n",
       "3853  HONDA, BRIO SATYA 1.2 E MT CKD, 2022  11-08-2024  Operational   \n",
       "3854     HONDA, BRIO SATYA 1.2 E CVT, 2023  10-27-2024  Operational   \n",
       "3855     HONDA, BRIO SATYA 1.2 E CVT, 2023  10-27-2024  Operational   \n",
       "3856                HONDA, CITY E AT, 2012  11-25-2024  Operational   \n",
       "\n",
       "      installment   cost_price  \n",
       "3853   4055000.00 163000000.00  \n",
       "3854   4750000.00 244500000.00  \n",
       "3855   4750000.00 244500000.00  \n",
       "3856   3149000.00 157000000.00  "
      ]
     },
     "execution_count": 20,
     "metadata": {},
     "output_type": "execute_result"
    }
   ],
   "source": [
    "# DATA DUPLICATE SAMPLE\n",
    "df[df.customer_name == 'AYU LESTARI']"
   ]
  },
  {
   "cell_type": "code",
   "execution_count": 21,
   "id": "6b1ee99e",
   "metadata": {},
   "outputs": [],
   "source": [
    "# Drop duplicate data\n",
    "df = df.drop_duplicates(subset = ['customer_name', 'dealer_name',\n",
    "                        'unit_description', 'due_date','status',\n",
    "                        'installment', 'cost_price'])"
   ]
  },
  {
   "cell_type": "code",
   "execution_count": 22,
   "id": "4e585063",
   "metadata": {},
   "outputs": [
    {
     "data": {
      "text/plain": [
       "False"
      ]
     },
     "execution_count": 22,
     "metadata": {},
     "output_type": "execute_result"
    }
   ],
   "source": [
    "# Check duplicate data after drop_duplicates \n",
    "df.duplicated(subset = ['customer_name', 'dealer_name',\n",
    "                        'unit_description', 'due_date','status',\n",
    "                        'installment', 'cost_price']).any()"
   ]
  },
  {
   "cell_type": "markdown",
   "id": "bc497a4d",
   "metadata": {},
   "source": [
    "# No 2"
   ]
  },
  {
   "cell_type": "markdown",
   "id": "5fc69668",
   "metadata": {},
   "source": [
    "Perform data manipulation on the unit_description column, breaking it into 3 new columns\n",
    "with the column names (brand_name, type_car, year_of_car)."
   ]
  },
  {
   "cell_type": "code",
   "execution_count": 23,
   "id": "19f20922",
   "metadata": {},
   "outputs": [],
   "source": [
    "df['brand_name'] = df['unit_description'].apply(lambda x: x.split(',')[0].strip())\n",
    "df['type_car'] = df['unit_description'].apply(lambda x: x.split(',')[1].strip())\n",
    "df['year_of_car'] = df['unit_description'].apply(lambda x: x.split(',')[2].strip())"
   ]
  },
  {
   "cell_type": "code",
   "execution_count": 24,
   "id": "2ccc347b",
   "metadata": {},
   "outputs": [
    {
     "data": {
      "text/html": [
       "<div>\n",
       "<style scoped>\n",
       "    .dataframe tbody tr th:only-of-type {\n",
       "        vertical-align: middle;\n",
       "    }\n",
       "\n",
       "    .dataframe tbody tr th {\n",
       "        vertical-align: top;\n",
       "    }\n",
       "\n",
       "    .dataframe thead th {\n",
       "        text-align: right;\n",
       "    }\n",
       "</style>\n",
       "<table border=\"1\" class=\"dataframe\">\n",
       "  <thead>\n",
       "    <tr style=\"text-align: right;\">\n",
       "      <th></th>\n",
       "      <th>customer_name</th>\n",
       "      <th>dealer_name</th>\n",
       "      <th>unit_description</th>\n",
       "      <th>due_date</th>\n",
       "      <th>status</th>\n",
       "      <th>installment</th>\n",
       "      <th>cost_price</th>\n",
       "      <th>brand_name</th>\n",
       "      <th>type_car</th>\n",
       "      <th>year_of_car</th>\n",
       "    </tr>\n",
       "  </thead>\n",
       "  <tbody>\n",
       "    <tr>\n",
       "      <th>0</th>\n",
       "      <td>AMRUL QOIS</td>\n",
       "      <td>HYUNDAI MAMPANG</td>\n",
       "      <td>HYUNDAI, CRETA PRIME 1.5 SINGLE TONE IVT, 2022</td>\n",
       "      <td>10-27-2024</td>\n",
       "      <td>Operational</td>\n",
       "      <td>8085000.00</td>\n",
       "      <td>404000000.00</td>\n",
       "      <td>HYUNDAI</td>\n",
       "      <td>CRETA PRIME 1.5 SINGLE TONE IVT</td>\n",
       "      <td>2022</td>\n",
       "    </tr>\n",
       "    <tr>\n",
       "      <th>1</th>\n",
       "      <td>AZIZATUL MUNIFAH</td>\n",
       "      <td>HONDA MANDALASENA</td>\n",
       "      <td>HONDA, ALL NEW BR-V E CVT, 2023</td>\n",
       "      <td>11-10-2024</td>\n",
       "      <td>Operational</td>\n",
       "      <td>4858000.00</td>\n",
       "      <td>330450000.00</td>\n",
       "      <td>HONDA</td>\n",
       "      <td>ALL NEW BR-V E CVT</td>\n",
       "      <td>2023</td>\n",
       "    </tr>\n",
       "    <tr>\n",
       "      <th>2</th>\n",
       "      <td>BHARATH SRINIVASAN SETHURAMAN</td>\n",
       "      <td>HONDA MANDIRI BOGOR</td>\n",
       "      <td>HONDA, ALL NEW CRV 1.5 TURBO PRESTIGE, 2022</td>\n",
       "      <td>11-15-2024</td>\n",
       "      <td>Operational</td>\n",
       "      <td>9266000.00</td>\n",
       "      <td>653400000.00</td>\n",
       "      <td>HONDA</td>\n",
       "      <td>ALL NEW CRV 1.5 TURBO PRESTIGE</td>\n",
       "      <td>2022</td>\n",
       "    </tr>\n",
       "    <tr>\n",
       "      <th>3</th>\n",
       "      <td>MARSUDIN</td>\n",
       "      <td>HONDA CIKARANG</td>\n",
       "      <td>HONDA, ALL NEW CITY HATCHBACK RS CVT, 2021</td>\n",
       "      <td>10-27-2024</td>\n",
       "      <td>Operational</td>\n",
       "      <td>5881000.00</td>\n",
       "      <td>302000000.00</td>\n",
       "      <td>HONDA</td>\n",
       "      <td>ALL NEW CITY HATCHBACK RS CVT</td>\n",
       "      <td>2021</td>\n",
       "    </tr>\n",
       "    <tr>\n",
       "      <th>4</th>\n",
       "      <td>NI NYOMAN PUJI ASTUTI</td>\n",
       "      <td>HONDA BINTANG TABANAN</td>\n",
       "      <td>HONDA, ALL NEW BRIO E CVT, 2024</td>\n",
       "      <td>11-25-2024</td>\n",
       "      <td>Operational</td>\n",
       "      <td>6946000.00</td>\n",
       "      <td>228200000.00</td>\n",
       "      <td>HONDA</td>\n",
       "      <td>ALL NEW BRIO E CVT</td>\n",
       "      <td>2024</td>\n",
       "    </tr>\n",
       "  </tbody>\n",
       "</table>\n",
       "</div>"
      ],
      "text/plain": [
       "                    customer_name            dealer_name  \\\n",
       "0                      AMRUL QOIS        HYUNDAI MAMPANG   \n",
       "1                AZIZATUL MUNIFAH      HONDA MANDALASENA   \n",
       "2   BHARATH SRINIVASAN SETHURAMAN    HONDA MANDIRI BOGOR   \n",
       "3                        MARSUDIN         HONDA CIKARANG   \n",
       "4           NI NYOMAN PUJI ASTUTI  HONDA BINTANG TABANAN   \n",
       "\n",
       "                                 unit_description    due_date       status  \\\n",
       "0  HYUNDAI, CRETA PRIME 1.5 SINGLE TONE IVT, 2022  10-27-2024  Operational   \n",
       "1                 HONDA, ALL NEW BR-V E CVT, 2023  11-10-2024  Operational   \n",
       "2     HONDA, ALL NEW CRV 1.5 TURBO PRESTIGE, 2022  11-15-2024  Operational   \n",
       "3      HONDA, ALL NEW CITY HATCHBACK RS CVT, 2021  10-27-2024  Operational   \n",
       "4                 HONDA, ALL NEW BRIO E CVT, 2024  11-25-2024  Operational   \n",
       "\n",
       "   installment   cost_price brand_name                         type_car  \\\n",
       "0   8085000.00 404000000.00    HYUNDAI  CRETA PRIME 1.5 SINGLE TONE IVT   \n",
       "1   4858000.00 330450000.00      HONDA               ALL NEW BR-V E CVT   \n",
       "2   9266000.00 653400000.00      HONDA   ALL NEW CRV 1.5 TURBO PRESTIGE   \n",
       "3   5881000.00 302000000.00      HONDA    ALL NEW CITY HATCHBACK RS CVT   \n",
       "4   6946000.00 228200000.00      HONDA               ALL NEW BRIO E CVT   \n",
       "\n",
       "  year_of_car  \n",
       "0        2022  \n",
       "1        2023  \n",
       "2        2022  \n",
       "3        2021  \n",
       "4        2024  "
      ]
     },
     "execution_count": 24,
     "metadata": {},
     "output_type": "execute_result"
    }
   ],
   "source": [
    "df.head()"
   ]
  },
  {
   "cell_type": "markdown",
   "id": "7366d268",
   "metadata": {},
   "source": [
    "# No 3"
   ]
  },
  {
   "cell_type": "markdown",
   "id": "590d2ef7",
   "metadata": {},
   "source": [
    "Count the number of cars based on type_car"
   ]
  },
  {
   "cell_type": "code",
   "execution_count": 27,
   "id": "08cf918c",
   "metadata": {},
   "outputs": [],
   "source": [
    "type_car_count = df.groupby('type_car').agg({'customer_name': 'count'}).reset_index()\\\n",
    ".rename(columns ={'customer_name' : 'cnt'}).sort_values('cnt',ascending = False)"
   ]
  },
  {
   "cell_type": "code",
   "execution_count": 28,
   "id": "6a7986cf",
   "metadata": {},
   "outputs": [
    {
     "data": {
      "text/html": [
       "<div>\n",
       "<style scoped>\n",
       "    .dataframe tbody tr th:only-of-type {\n",
       "        vertical-align: middle;\n",
       "    }\n",
       "\n",
       "    .dataframe tbody tr th {\n",
       "        vertical-align: top;\n",
       "    }\n",
       "\n",
       "    .dataframe thead th {\n",
       "        text-align: right;\n",
       "    }\n",
       "</style>\n",
       "<table border=\"1\" class=\"dataframe\">\n",
       "  <thead>\n",
       "    <tr style=\"text-align: right;\">\n",
       "      <th></th>\n",
       "      <th>type_car</th>\n",
       "      <th>cnt</th>\n",
       "    </tr>\n",
       "  </thead>\n",
       "  <tbody>\n",
       "    <tr>\n",
       "      <th>89</th>\n",
       "      <td>ALL NEW BRIO E CVT</td>\n",
       "      <td>3337</td>\n",
       "    </tr>\n",
       "    <tr>\n",
       "      <th>418</th>\n",
       "      <td>BRIO SATYA E CVT</td>\n",
       "      <td>2329</td>\n",
       "    </tr>\n",
       "    <tr>\n",
       "      <th>90</th>\n",
       "      <td>ALL NEW BRIO E MT</td>\n",
       "      <td>1994</td>\n",
       "    </tr>\n",
       "    <tr>\n",
       "      <th>419</th>\n",
       "      <td>BRIO SATYA E MT</td>\n",
       "      <td>1507</td>\n",
       "    </tr>\n",
       "    <tr>\n",
       "      <th>91</th>\n",
       "      <td>ALL NEW BRIO RS CVT</td>\n",
       "      <td>724</td>\n",
       "    </tr>\n",
       "  </tbody>\n",
       "</table>\n",
       "</div>"
      ],
      "text/plain": [
       "                type_car   cnt\n",
       "89    ALL NEW BRIO E CVT  3337\n",
       "418     BRIO SATYA E CVT  2329\n",
       "90     ALL NEW BRIO E MT  1994\n",
       "419      BRIO SATYA E MT  1507\n",
       "91   ALL NEW BRIO RS CVT   724"
      ]
     },
     "execution_count": 28,
     "metadata": {},
     "output_type": "execute_result"
    }
   ],
   "source": [
    "type_car_count.head()"
   ]
  },
  {
   "cell_type": "markdown",
   "id": "9dc1e60e",
   "metadata": {},
   "source": [
    "# No 4"
   ]
  },
  {
   "cell_type": "markdown",
   "id": "83b8b2bb",
   "metadata": {},
   "source": [
    "Look for the price of the car and installments that are the most expensive to the cheapest"
   ]
  },
  {
   "cell_type": "code",
   "execution_count": 29,
   "id": "48919dff",
   "metadata": {},
   "outputs": [],
   "source": [
    "price_and_installment = df[['unit_description','cost_price','installment']]\\\n",
    "                        .sort_values(by = ['cost_price','installment'], ascending = False).drop_duplicates()"
   ]
  },
  {
   "cell_type": "code",
   "execution_count": 30,
   "id": "89645940",
   "metadata": {},
   "outputs": [
    {
     "data": {
      "text/html": [
       "<div>\n",
       "<style scoped>\n",
       "    .dataframe tbody tr th:only-of-type {\n",
       "        vertical-align: middle;\n",
       "    }\n",
       "\n",
       "    .dataframe tbody tr th {\n",
       "        vertical-align: top;\n",
       "    }\n",
       "\n",
       "    .dataframe thead th {\n",
       "        text-align: right;\n",
       "    }\n",
       "</style>\n",
       "<table border=\"1\" class=\"dataframe\">\n",
       "  <thead>\n",
       "    <tr style=\"text-align: right;\">\n",
       "      <th></th>\n",
       "      <th>unit_description</th>\n",
       "      <th>cost_price</th>\n",
       "      <th>installment</th>\n",
       "    </tr>\n",
       "  </thead>\n",
       "  <tbody>\n",
       "    <tr>\n",
       "      <th>21072</th>\n",
       "      <td>FERRARI, SF 90 SPIDER, 2022</td>\n",
       "      <td>17500000000.00</td>\n",
       "      <td>375355000.00</td>\n",
       "    </tr>\n",
       "    <tr>\n",
       "      <th>21467</th>\n",
       "      <td>SANY, Wide Body Mining SKT 80S, 2022</td>\n",
       "      <td>14000000000.00</td>\n",
       "      <td>244445000.00</td>\n",
       "    </tr>\n",
       "    <tr>\n",
       "      <th>21319</th>\n",
       "      <td>MESIN, RECYCLE PROCESS, 2013</td>\n",
       "      <td>11124961646.00</td>\n",
       "      <td>179106000.00</td>\n",
       "    </tr>\n",
       "    <tr>\n",
       "      <th>21236</th>\n",
       "      <td>HINO, RANGER EURO 4 FM 280 JD + KAROSERI, 2022</td>\n",
       "      <td>7500000000.00</td>\n",
       "      <td>149865000.00</td>\n",
       "    </tr>\n",
       "    <tr>\n",
       "      <th>20900</th>\n",
       "      <td>UD TRUCK, Quester CWE 280 WB 4300, 2022</td>\n",
       "      <td>6993910000.00</td>\n",
       "      <td>168637000.00</td>\n",
       "    </tr>\n",
       "    <tr>\n",
       "      <th>20853</th>\n",
       "      <td>WORKSHOP EQUIPMENT, EQUIPMENT, 2022</td>\n",
       "      <td>6704219021.00</td>\n",
       "      <td>91819000.00</td>\n",
       "    </tr>\n",
       "    <tr>\n",
       "      <th>14258</th>\n",
       "      <td>MITSUBISHI, FE 84 + KAROSERI, 2022</td>\n",
       "      <td>5636000000.00</td>\n",
       "      <td>112720000.00</td>\n",
       "    </tr>\n",
       "    <tr>\n",
       "      <th>20684</th>\n",
       "      <td>HINO, FM 280 JD + DUMP, 2022</td>\n",
       "      <td>5400000000.00</td>\n",
       "      <td>160334000.00</td>\n",
       "    </tr>\n",
       "    <tr>\n",
       "      <th>20220</th>\n",
       "      <td>KOMATSU, WA800-3A, 2014</td>\n",
       "      <td>5000000000.00</td>\n",
       "      <td>175245000.00</td>\n",
       "    </tr>\n",
       "    <tr>\n",
       "      <th>20219</th>\n",
       "      <td>KOMATSU, WA800-3A, 2014</td>\n",
       "      <td>5000000000.00</td>\n",
       "      <td>174139000.00</td>\n",
       "    </tr>\n",
       "  </tbody>\n",
       "</table>\n",
       "</div>"
      ],
      "text/plain": [
       "                                     unit_description     cost_price  \\\n",
       "21072                     FERRARI, SF 90 SPIDER, 2022 17500000000.00   \n",
       "21467            SANY, Wide Body Mining SKT 80S, 2022 14000000000.00   \n",
       "21319                    MESIN, RECYCLE PROCESS, 2013 11124961646.00   \n",
       "21236  HINO, RANGER EURO 4 FM 280 JD + KAROSERI, 2022  7500000000.00   \n",
       "20900         UD TRUCK, Quester CWE 280 WB 4300, 2022  6993910000.00   \n",
       "20853             WORKSHOP EQUIPMENT, EQUIPMENT, 2022  6704219021.00   \n",
       "14258              MITSUBISHI, FE 84 + KAROSERI, 2022  5636000000.00   \n",
       "20684                    HINO, FM 280 JD + DUMP, 2022  5400000000.00   \n",
       "20220                         KOMATSU, WA800-3A, 2014  5000000000.00   \n",
       "20219                         KOMATSU, WA800-3A, 2014  5000000000.00   \n",
       "\n",
       "       installment  \n",
       "21072 375355000.00  \n",
       "21467 244445000.00  \n",
       "21319 179106000.00  \n",
       "21236 149865000.00  \n",
       "20900 168637000.00  \n",
       "20853  91819000.00  \n",
       "14258 112720000.00  \n",
       "20684 160334000.00  \n",
       "20220 175245000.00  \n",
       "20219 174139000.00  "
      ]
     },
     "execution_count": 30,
     "metadata": {},
     "output_type": "execute_result"
    }
   ],
   "source": [
    "price_and_installment.head(10)"
   ]
  },
  {
   "cell_type": "markdown",
   "id": "c4eb575c",
   "metadata": {},
   "source": [
    "# No 5"
   ]
  },
  {
   "cell_type": "markdown",
   "id": "d58ec7f4",
   "metadata": {},
   "source": [
    "Then analyze the dataset with the concept of Exploratory Data Analysis (EDA)"
   ]
  },
  {
   "cell_type": "code",
   "execution_count": 31,
   "id": "d9b062d8",
   "metadata": {},
   "outputs": [],
   "source": [
    "# Describe"
   ]
  },
  {
   "cell_type": "code",
   "execution_count": 32,
   "id": "cb1e1f12",
   "metadata": {},
   "outputs": [
    {
     "data": {
      "text/html": [
       "<div>\n",
       "<style scoped>\n",
       "    .dataframe tbody tr th:only-of-type {\n",
       "        vertical-align: middle;\n",
       "    }\n",
       "\n",
       "    .dataframe tbody tr th {\n",
       "        vertical-align: top;\n",
       "    }\n",
       "\n",
       "    .dataframe thead th {\n",
       "        text-align: right;\n",
       "    }\n",
       "</style>\n",
       "<table border=\"1\" class=\"dataframe\">\n",
       "  <thead>\n",
       "    <tr style=\"text-align: right;\">\n",
       "      <th></th>\n",
       "      <th>installment</th>\n",
       "      <th>cost_price</th>\n",
       "    </tr>\n",
       "  </thead>\n",
       "  <tbody>\n",
       "    <tr>\n",
       "      <th>count</th>\n",
       "      <td>30406.00</td>\n",
       "      <td>30406.00</td>\n",
       "    </tr>\n",
       "    <tr>\n",
       "      <th>mean</th>\n",
       "      <td>6011832.75</td>\n",
       "      <td>277288195.69</td>\n",
       "    </tr>\n",
       "    <tr>\n",
       "      <th>std</th>\n",
       "      <td>12465351.55</td>\n",
       "      <td>240458603.78</td>\n",
       "    </tr>\n",
       "    <tr>\n",
       "      <th>min</th>\n",
       "      <td>320000.00</td>\n",
       "      <td>11272727.00</td>\n",
       "    </tr>\n",
       "    <tr>\n",
       "      <th>25%</th>\n",
       "      <td>3517000.00</td>\n",
       "      <td>188000000.00</td>\n",
       "    </tr>\n",
       "    <tr>\n",
       "      <th>50%</th>\n",
       "      <td>4355000.00</td>\n",
       "      <td>225200000.00</td>\n",
       "    </tr>\n",
       "    <tr>\n",
       "      <th>75%</th>\n",
       "      <td>6161000.00</td>\n",
       "      <td>327600000.00</td>\n",
       "    </tr>\n",
       "    <tr>\n",
       "      <th>max</th>\n",
       "      <td>782681940.00</td>\n",
       "      <td>17500000000.00</td>\n",
       "    </tr>\n",
       "  </tbody>\n",
       "</table>\n",
       "</div>"
      ],
      "text/plain": [
       "       installment     cost_price\n",
       "count     30406.00       30406.00\n",
       "mean    6011832.75   277288195.69\n",
       "std    12465351.55   240458603.78\n",
       "min      320000.00    11272727.00\n",
       "25%     3517000.00   188000000.00\n",
       "50%     4355000.00   225200000.00\n",
       "75%     6161000.00   327600000.00\n",
       "max   782681940.00 17500000000.00"
      ]
     },
     "execution_count": 32,
     "metadata": {},
     "output_type": "execute_result"
    }
   ],
   "source": [
    "df[['installment','cost_price']].describe()"
   ]
  },
  {
   "cell_type": "code",
   "execution_count": 33,
   "id": "45ed4155",
   "metadata": {},
   "outputs": [
    {
     "data": {
      "text/html": [
       "<div>\n",
       "<style scoped>\n",
       "    .dataframe tbody tr th:only-of-type {\n",
       "        vertical-align: middle;\n",
       "    }\n",
       "\n",
       "    .dataframe tbody tr th {\n",
       "        vertical-align: top;\n",
       "    }\n",
       "\n",
       "    .dataframe thead th {\n",
       "        text-align: right;\n",
       "    }\n",
       "</style>\n",
       "<table border=\"1\" class=\"dataframe\">\n",
       "  <thead>\n",
       "    <tr style=\"text-align: right;\">\n",
       "      <th></th>\n",
       "      <th>customer_name</th>\n",
       "      <th>dealer_name</th>\n",
       "      <th>unit_description</th>\n",
       "      <th>due_date</th>\n",
       "      <th>status</th>\n",
       "      <th>installment</th>\n",
       "      <th>cost_price</th>\n",
       "      <th>brand_name</th>\n",
       "      <th>type_car</th>\n",
       "      <th>year_of_car</th>\n",
       "    </tr>\n",
       "  </thead>\n",
       "  <tbody>\n",
       "    <tr>\n",
       "      <th>count</th>\n",
       "      <td>30406</td>\n",
       "      <td>30406</td>\n",
       "      <td>30406</td>\n",
       "      <td>28706</td>\n",
       "      <td>30406</td>\n",
       "      <td>30406.00</td>\n",
       "      <td>30406.00</td>\n",
       "      <td>30406</td>\n",
       "      <td>30406</td>\n",
       "      <td>30406</td>\n",
       "    </tr>\n",
       "    <tr>\n",
       "      <th>unique</th>\n",
       "      <td>27212</td>\n",
       "      <td>1307</td>\n",
       "      <td>4198</td>\n",
       "      <td>917</td>\n",
       "      <td>5</td>\n",
       "      <td>NaN</td>\n",
       "      <td>NaN</td>\n",
       "      <td>66</td>\n",
       "      <td>2024</td>\n",
       "      <td>42</td>\n",
       "    </tr>\n",
       "    <tr>\n",
       "      <th>top</th>\n",
       "      <td>PT. TRANS ARMADA INDONESIA</td>\n",
       "      <td>HONDA CIKARANG</td>\n",
       "      <td>HONDA, ALL NEW BRIO E CVT, 2023</td>\n",
       "      <td>10-27-2024</td>\n",
       "      <td>Operational</td>\n",
       "      <td>NaN</td>\n",
       "      <td>NaN</td>\n",
       "      <td>HONDA</td>\n",
       "      <td>ALL NEW BRIO E CVT</td>\n",
       "      <td>2023</td>\n",
       "    </tr>\n",
       "    <tr>\n",
       "      <th>freq</th>\n",
       "      <td>46</td>\n",
       "      <td>1288</td>\n",
       "      <td>1227</td>\n",
       "      <td>9656</td>\n",
       "      <td>27132</td>\n",
       "      <td>NaN</td>\n",
       "      <td>NaN</td>\n",
       "      <td>23973</td>\n",
       "      <td>3337</td>\n",
       "      <td>8305</td>\n",
       "    </tr>\n",
       "    <tr>\n",
       "      <th>mean</th>\n",
       "      <td>NaN</td>\n",
       "      <td>NaN</td>\n",
       "      <td>NaN</td>\n",
       "      <td>NaN</td>\n",
       "      <td>NaN</td>\n",
       "      <td>6011832.75</td>\n",
       "      <td>277288195.69</td>\n",
       "      <td>NaN</td>\n",
       "      <td>NaN</td>\n",
       "      <td>NaN</td>\n",
       "    </tr>\n",
       "    <tr>\n",
       "      <th>std</th>\n",
       "      <td>NaN</td>\n",
       "      <td>NaN</td>\n",
       "      <td>NaN</td>\n",
       "      <td>NaN</td>\n",
       "      <td>NaN</td>\n",
       "      <td>12465351.55</td>\n",
       "      <td>240458603.78</td>\n",
       "      <td>NaN</td>\n",
       "      <td>NaN</td>\n",
       "      <td>NaN</td>\n",
       "    </tr>\n",
       "    <tr>\n",
       "      <th>min</th>\n",
       "      <td>NaN</td>\n",
       "      <td>NaN</td>\n",
       "      <td>NaN</td>\n",
       "      <td>NaN</td>\n",
       "      <td>NaN</td>\n",
       "      <td>320000.00</td>\n",
       "      <td>11272727.00</td>\n",
       "      <td>NaN</td>\n",
       "      <td>NaN</td>\n",
       "      <td>NaN</td>\n",
       "    </tr>\n",
       "    <tr>\n",
       "      <th>25%</th>\n",
       "      <td>NaN</td>\n",
       "      <td>NaN</td>\n",
       "      <td>NaN</td>\n",
       "      <td>NaN</td>\n",
       "      <td>NaN</td>\n",
       "      <td>3517000.00</td>\n",
       "      <td>188000000.00</td>\n",
       "      <td>NaN</td>\n",
       "      <td>NaN</td>\n",
       "      <td>NaN</td>\n",
       "    </tr>\n",
       "    <tr>\n",
       "      <th>50%</th>\n",
       "      <td>NaN</td>\n",
       "      <td>NaN</td>\n",
       "      <td>NaN</td>\n",
       "      <td>NaN</td>\n",
       "      <td>NaN</td>\n",
       "      <td>4355000.00</td>\n",
       "      <td>225200000.00</td>\n",
       "      <td>NaN</td>\n",
       "      <td>NaN</td>\n",
       "      <td>NaN</td>\n",
       "    </tr>\n",
       "    <tr>\n",
       "      <th>75%</th>\n",
       "      <td>NaN</td>\n",
       "      <td>NaN</td>\n",
       "      <td>NaN</td>\n",
       "      <td>NaN</td>\n",
       "      <td>NaN</td>\n",
       "      <td>6161000.00</td>\n",
       "      <td>327600000.00</td>\n",
       "      <td>NaN</td>\n",
       "      <td>NaN</td>\n",
       "      <td>NaN</td>\n",
       "    </tr>\n",
       "    <tr>\n",
       "      <th>max</th>\n",
       "      <td>NaN</td>\n",
       "      <td>NaN</td>\n",
       "      <td>NaN</td>\n",
       "      <td>NaN</td>\n",
       "      <td>NaN</td>\n",
       "      <td>782681940.00</td>\n",
       "      <td>17500000000.00</td>\n",
       "      <td>NaN</td>\n",
       "      <td>NaN</td>\n",
       "      <td>NaN</td>\n",
       "    </tr>\n",
       "  </tbody>\n",
       "</table>\n",
       "</div>"
      ],
      "text/plain": [
       "                     customer_name     dealer_name  \\\n",
       "count                        30406           30406   \n",
       "unique                       27212            1307   \n",
       "top     PT. TRANS ARMADA INDONESIA  HONDA CIKARANG   \n",
       "freq                            46            1288   \n",
       "mean                           NaN             NaN   \n",
       "std                            NaN             NaN   \n",
       "min                            NaN             NaN   \n",
       "25%                            NaN             NaN   \n",
       "50%                            NaN             NaN   \n",
       "75%                            NaN             NaN   \n",
       "max                            NaN             NaN   \n",
       "\n",
       "                       unit_description    due_date       status  installment  \\\n",
       "count                             30406       28706        30406     30406.00   \n",
       "unique                             4198         917            5          NaN   \n",
       "top     HONDA, ALL NEW BRIO E CVT, 2023  10-27-2024  Operational          NaN   \n",
       "freq                               1227        9656        27132          NaN   \n",
       "mean                                NaN         NaN          NaN   6011832.75   \n",
       "std                                 NaN         NaN          NaN  12465351.55   \n",
       "min                                 NaN         NaN          NaN    320000.00   \n",
       "25%                                 NaN         NaN          NaN   3517000.00   \n",
       "50%                                 NaN         NaN          NaN   4355000.00   \n",
       "75%                                 NaN         NaN          NaN   6161000.00   \n",
       "max                                 NaN         NaN          NaN 782681940.00   \n",
       "\n",
       "           cost_price brand_name            type_car year_of_car  \n",
       "count        30406.00      30406               30406       30406  \n",
       "unique            NaN         66                2024          42  \n",
       "top               NaN      HONDA  ALL NEW BRIO E CVT        2023  \n",
       "freq              NaN      23973                3337        8305  \n",
       "mean     277288195.69        NaN                 NaN         NaN  \n",
       "std      240458603.78        NaN                 NaN         NaN  \n",
       "min       11272727.00        NaN                 NaN         NaN  \n",
       "25%      188000000.00        NaN                 NaN         NaN  \n",
       "50%      225200000.00        NaN                 NaN         NaN  \n",
       "75%      327600000.00        NaN                 NaN         NaN  \n",
       "max    17500000000.00        NaN                 NaN         NaN  "
      ]
     },
     "execution_count": 33,
     "metadata": {},
     "output_type": "execute_result"
    }
   ],
   "source": [
    "df.describe(include = 'all')"
   ]
  },
  {
   "cell_type": "code",
   "execution_count": 34,
   "id": "869adb3d",
   "metadata": {},
   "outputs": [],
   "source": [
    "# Outlier"
   ]
  },
  {
   "cell_type": "code",
   "execution_count": 35,
   "id": "daba3bba",
   "metadata": {},
   "outputs": [
    {
     "data": {
      "image/png": "[encoded data removed]",
      "text/plain": [
       "<Figure size 1000x600 with 1 Axes>"
      ]
     },
     "metadata": {},
     "output_type": "display_data"
    }
   ],
   "source": [
    "# Installment and cost_price anomaly\n",
    "plt.figure(figsize=(10, 6))\n",
    "plt.scatter(x = df['cost_price'], y = df['installment'], color='blue', marker='o')\n",
    "plt.title('Scatter Plot of cost_price vs installment')\n",
    "plt.xlabel('cost_price')\n",
    "plt.ylabel('installment') \n",
    "plt.grid(True)\n",
    "plt.show()"
   ]
  },
  {
   "cell_type": "markdown",
   "id": "85783fa7",
   "metadata": {},
   "source": [
    "# No 6"
   ]
  },
  {
   "cell_type": "code",
   "execution_count": 36,
   "id": "10abe8ea",
   "metadata": {},
   "outputs": [
    {
     "data": {
      "text/plain": [
       "'\\nMake a Data Visualization based on :\\na. Top 10 Most Sold Car Brands\\nb. Top Most Sold Car Models/Types using treemap\\nc. Distribution of Status Type\\nd. Top 10 Most Frequent Customers\\ne. Top 10 Most Frequent Dealers\\n'"
      ]
     },
     "execution_count": 36,
     "metadata": {},
     "output_type": "execute_result"
    }
   ],
   "source": [
    "'''\n",
    "Make a Data Visualization based on :\n",
    "a. Top 10 Most Sold Car Brands\n",
    "b. Top Most Sold Car Models/Types using treemap\n",
    "c. Distribution of Status Type\n",
    "d. Top 10 Most Frequent Customers\n",
    "e. Top 10 Most Frequent Dealers\n",
    "'''"
   ]
  },
  {
   "cell_type": "markdown",
   "id": "725abbbc",
   "metadata": {},
   "source": [
    "## Top 10 Most Sold Car Brands"
   ]
  },
  {
   "cell_type": "code",
   "execution_count": 37,
   "id": "ed7cb482",
   "metadata": {},
   "outputs": [
    {
     "data": {
      "text/html": [
       "<div>\n",
       "<style scoped>\n",
       "    .dataframe tbody tr th:only-of-type {\n",
       "        vertical-align: middle;\n",
       "    }\n",
       "\n",
       "    .dataframe tbody tr th {\n",
       "        vertical-align: top;\n",
       "    }\n",
       "\n",
       "    .dataframe thead th {\n",
       "        text-align: right;\n",
       "    }\n",
       "</style>\n",
       "<table border=\"1\" class=\"dataframe\">\n",
       "  <thead>\n",
       "    <tr style=\"text-align: right;\">\n",
       "      <th></th>\n",
       "      <th>customer_name</th>\n",
       "      <th>dealer_name</th>\n",
       "      <th>unit_description</th>\n",
       "      <th>due_date</th>\n",
       "      <th>status</th>\n",
       "      <th>installment</th>\n",
       "      <th>cost_price</th>\n",
       "      <th>brand_name</th>\n",
       "      <th>type_car</th>\n",
       "      <th>year_of_car</th>\n",
       "    </tr>\n",
       "  </thead>\n",
       "  <tbody>\n",
       "    <tr>\n",
       "      <th>0</th>\n",
       "      <td>AMRUL QOIS</td>\n",
       "      <td>HYUNDAI MAMPANG</td>\n",
       "      <td>HYUNDAI, CRETA PRIME 1.5 SINGLE TONE IVT, 2022</td>\n",
       "      <td>10-27-2024</td>\n",
       "      <td>Operational</td>\n",
       "      <td>8085000.00</td>\n",
       "      <td>404000000.00</td>\n",
       "      <td>HYUNDAI</td>\n",
       "      <td>CRETA PRIME 1.5 SINGLE TONE IVT</td>\n",
       "      <td>2022</td>\n",
       "    </tr>\n",
       "    <tr>\n",
       "      <th>1</th>\n",
       "      <td>AZIZATUL MUNIFAH</td>\n",
       "      <td>HONDA MANDALASENA</td>\n",
       "      <td>HONDA, ALL NEW BR-V E CVT, 2023</td>\n",
       "      <td>11-10-2024</td>\n",
       "      <td>Operational</td>\n",
       "      <td>4858000.00</td>\n",
       "      <td>330450000.00</td>\n",
       "      <td>HONDA</td>\n",
       "      <td>ALL NEW BR-V E CVT</td>\n",
       "      <td>2023</td>\n",
       "    </tr>\n",
       "  </tbody>\n",
       "</table>\n",
       "</div>"
      ],
      "text/plain": [
       "       customer_name        dealer_name  \\\n",
       "0         AMRUL QOIS    HYUNDAI MAMPANG   \n",
       "1   AZIZATUL MUNIFAH  HONDA MANDALASENA   \n",
       "\n",
       "                                 unit_description    due_date       status  \\\n",
       "0  HYUNDAI, CRETA PRIME 1.5 SINGLE TONE IVT, 2022  10-27-2024  Operational   \n",
       "1                 HONDA, ALL NEW BR-V E CVT, 2023  11-10-2024  Operational   \n",
       "\n",
       "   installment   cost_price brand_name                         type_car  \\\n",
       "0   8085000.00 404000000.00    HYUNDAI  CRETA PRIME 1.5 SINGLE TONE IVT   \n",
       "1   4858000.00 330450000.00      HONDA               ALL NEW BR-V E CVT   \n",
       "\n",
       "  year_of_car  \n",
       "0        2022  \n",
       "1        2023  "
      ]
     },
     "execution_count": 37,
     "metadata": {},
     "output_type": "execute_result"
    }
   ],
   "source": [
    "df.head(2)"
   ]
  },
  {
   "cell_type": "code",
   "execution_count": 38,
   "id": "dd69f7b9",
   "metadata": {},
   "outputs": [],
   "source": [
    "car_brand = df.groupby('brand_name').agg({'customer_name' : 'count'}).reset_index()\\\n",
    ".rename(columns ={'customer_name' : 'cnt'}).sort_values('cnt',ascending = False)\n",
    "top_car_brand = car_brand.head(10)"
   ]
  },
  {
   "cell_type": "code",
   "execution_count": 39,
   "id": "f5531249",
   "metadata": {},
   "outputs": [
    {
     "data": {
      "text/plain": [
       "(66, 2)"
      ]
     },
     "execution_count": 39,
     "metadata": {},
     "output_type": "execute_result"
    }
   ],
   "source": [
    "car_brand.shape"
   ]
  },
  {
   "cell_type": "code",
   "execution_count": 40,
   "id": "369d4449",
   "metadata": {},
   "outputs": [],
   "source": [
    "top_car_brand['percentage'] = top_car_brand.cnt.apply(lambda x: x/df.shape[0]*100)"
   ]
  },
  {
   "cell_type": "code",
   "execution_count": 41,
   "id": "788a57fa",
   "metadata": {
    "scrolled": true
   },
   "outputs": [
    {
     "data": {
      "text/html": [
       "<div>\n",
       "<style scoped>\n",
       "    .dataframe tbody tr th:only-of-type {\n",
       "        vertical-align: middle;\n",
       "    }\n",
       "\n",
       "    .dataframe tbody tr th {\n",
       "        vertical-align: top;\n",
       "    }\n",
       "\n",
       "    .dataframe thead th {\n",
       "        text-align: right;\n",
       "    }\n",
       "</style>\n",
       "<table border=\"1\" class=\"dataframe\">\n",
       "  <thead>\n",
       "    <tr style=\"text-align: right;\">\n",
       "      <th></th>\n",
       "      <th>brand_name</th>\n",
       "      <th>cnt</th>\n",
       "      <th>percentage</th>\n",
       "    </tr>\n",
       "  </thead>\n",
       "  <tbody>\n",
       "    <tr>\n",
       "      <th>23</th>\n",
       "      <td>HONDA</td>\n",
       "      <td>23973</td>\n",
       "      <td>78.84</td>\n",
       "    </tr>\n",
       "    <tr>\n",
       "      <th>59</th>\n",
       "      <td>TOYOTA</td>\n",
       "      <td>1856</td>\n",
       "      <td>6.10</td>\n",
       "    </tr>\n",
       "    <tr>\n",
       "      <th>65</th>\n",
       "      <td>WULING</td>\n",
       "      <td>1373</td>\n",
       "      <td>4.52</td>\n",
       "    </tr>\n",
       "    <tr>\n",
       "      <th>44</th>\n",
       "      <td>MITSUBISHI</td>\n",
       "      <td>935</td>\n",
       "      <td>3.08</td>\n",
       "    </tr>\n",
       "    <tr>\n",
       "      <th>58</th>\n",
       "      <td>SUZUKI</td>\n",
       "      <td>527</td>\n",
       "      <td>1.73</td>\n",
       "    </tr>\n",
       "    <tr>\n",
       "      <th>12</th>\n",
       "      <td>DAIHATSU</td>\n",
       "      <td>399</td>\n",
       "      <td>1.31</td>\n",
       "    </tr>\n",
       "    <tr>\n",
       "      <th>24</th>\n",
       "      <td>HYUNDAI</td>\n",
       "      <td>240</td>\n",
       "      <td>0.79</td>\n",
       "    </tr>\n",
       "    <tr>\n",
       "      <th>47</th>\n",
       "      <td>NISSAN</td>\n",
       "      <td>215</td>\n",
       "      <td>0.71</td>\n",
       "    </tr>\n",
       "    <tr>\n",
       "      <th>37</th>\n",
       "      <td>MAZDA</td>\n",
       "      <td>212</td>\n",
       "      <td>0.70</td>\n",
       "    </tr>\n",
       "    <tr>\n",
       "      <th>9</th>\n",
       "      <td>CHERY</td>\n",
       "      <td>116</td>\n",
       "      <td>0.38</td>\n",
       "    </tr>\n",
       "  </tbody>\n",
       "</table>\n",
       "</div>"
      ],
      "text/plain": [
       "    brand_name    cnt  percentage\n",
       "23       HONDA  23973       78.84\n",
       "59      TOYOTA   1856        6.10\n",
       "65      WULING   1373        4.52\n",
       "44  MITSUBISHI    935        3.08\n",
       "58      SUZUKI    527        1.73\n",
       "12    DAIHATSU    399        1.31\n",
       "24     HYUNDAI    240        0.79\n",
       "47      NISSAN    215        0.71\n",
       "37       MAZDA    212        0.70\n",
       "9        CHERY    116        0.38"
      ]
     },
     "execution_count": 41,
     "metadata": {},
     "output_type": "execute_result"
    }
   ],
   "source": [
    "top_car_brand"
   ]
  },
  {
   "cell_type": "code",
   "execution_count": 42,
   "id": "5ee01a4e",
   "metadata": {},
   "outputs": [
    {
     "data": {
      "image/png": "[encoded data removed]",
      "text/plain": [
       "<Figure size 1000x600 with 1 Axes>"
      ]
     },
     "metadata": {},
     "output_type": "display_data"
    }
   ],
   "source": [
    "plt.figure(figsize=(10, 6))\n",
    "sns.barplot(x='brand_name', y='cnt', data=top_car_brand, palette='viridis')\n",
    "plt.title('Top 10 Brand Name')\n",
    "plt.xlabel('Kategori')\n",
    "plt.ylabel('Jumlah')\n",
    "plt.xticks(rotation=45)\n",
    "plt.show()"
   ]
  },
  {
   "cell_type": "markdown",
   "id": "56ef8d7d",
   "metadata": {},
   "source": [
    "## Top Most Sold Car Models/Types using treemap"
   ]
  },
  {
   "cell_type": "code",
   "execution_count": 43,
   "id": "7f235d14",
   "metadata": {},
   "outputs": [],
   "source": [
    "top_type_car = type_car_count.head(10)"
   ]
  },
  {
   "cell_type": "code",
   "execution_count": 44,
   "id": "cc58a4ce",
   "metadata": {},
   "outputs": [
    {
     "data": {
      "text/html": [
       "<div>\n",
       "<style scoped>\n",
       "    .dataframe tbody tr th:only-of-type {\n",
       "        vertical-align: middle;\n",
       "    }\n",
       "\n",
       "    .dataframe tbody tr th {\n",
       "        vertical-align: top;\n",
       "    }\n",
       "\n",
       "    .dataframe thead th {\n",
       "        text-align: right;\n",
       "    }\n",
       "</style>\n",
       "<table border=\"1\" class=\"dataframe\">\n",
       "  <thead>\n",
       "    <tr style=\"text-align: right;\">\n",
       "      <th></th>\n",
       "      <th>type_car</th>\n",
       "      <th>cnt</th>\n",
       "    </tr>\n",
       "  </thead>\n",
       "  <tbody>\n",
       "    <tr>\n",
       "      <th>89</th>\n",
       "      <td>ALL NEW BRIO E CVT</td>\n",
       "      <td>3337</td>\n",
       "    </tr>\n",
       "    <tr>\n",
       "      <th>418</th>\n",
       "      <td>BRIO SATYA E CVT</td>\n",
       "      <td>2329</td>\n",
       "    </tr>\n",
       "    <tr>\n",
       "      <th>90</th>\n",
       "      <td>ALL NEW BRIO E MT</td>\n",
       "      <td>1994</td>\n",
       "    </tr>\n",
       "    <tr>\n",
       "      <th>419</th>\n",
       "      <td>BRIO SATYA E MT</td>\n",
       "      <td>1507</td>\n",
       "    </tr>\n",
       "    <tr>\n",
       "      <th>91</th>\n",
       "      <td>ALL NEW BRIO RS CVT</td>\n",
       "      <td>724</td>\n",
       "    </tr>\n",
       "    <tr>\n",
       "      <th>150</th>\n",
       "      <td>ALL NEW HR-V 1.5L SE CVT</td>\n",
       "      <td>717</td>\n",
       "    </tr>\n",
       "    <tr>\n",
       "      <th>400</th>\n",
       "      <td>BRIO RS CVT</td>\n",
       "      <td>598</td>\n",
       "    </tr>\n",
       "    <tr>\n",
       "      <th>409</th>\n",
       "      <td>BRIO SATYA 1.2 E CVT</td>\n",
       "      <td>415</td>\n",
       "    </tr>\n",
       "    <tr>\n",
       "      <th>1449</th>\n",
       "      <td>Mobilio S MT</td>\n",
       "      <td>397</td>\n",
       "    </tr>\n",
       "    <tr>\n",
       "      <th>184</th>\n",
       "      <td>ALL NEW WR-V 1.5 RS CVT</td>\n",
       "      <td>385</td>\n",
       "    </tr>\n",
       "  </tbody>\n",
       "</table>\n",
       "</div>"
      ],
      "text/plain": [
       "                      type_car   cnt\n",
       "89          ALL NEW BRIO E CVT  3337\n",
       "418           BRIO SATYA E CVT  2329\n",
       "90           ALL NEW BRIO E MT  1994\n",
       "419            BRIO SATYA E MT  1507\n",
       "91         ALL NEW BRIO RS CVT   724\n",
       "150   ALL NEW HR-V 1.5L SE CVT   717\n",
       "400                BRIO RS CVT   598\n",
       "409       BRIO SATYA 1.2 E CVT   415\n",
       "1449              Mobilio S MT   397\n",
       "184    ALL NEW WR-V 1.5 RS CVT   385"
      ]
     },
     "execution_count": 44,
     "metadata": {},
     "output_type": "execute_result"
    }
   ],
   "source": [
    "top_type_car"
   ]
  },
  {
   "cell_type": "code",
   "execution_count": 45,
   "id": "70b98f1d",
   "metadata": {},
   "outputs": [
    {
     "data": {
      "image/png": "[encoded data removed]",
      "text/plain": [
       "<Figure size 1000x600 with 1 Axes>"
      ]
     },
     "metadata": {},
     "output_type": "display_data"
    }
   ],
   "source": [
    "colors =['#e6f2ff','#cce5ff','#b3d9ff','#99ccff','#80b3ff','#66a3ff','#4d94ff','#3385ff','#1a75ff','#0066cc']\n",
    "plt.figure(figsize=(10, 6))\n",
    "squarify.plot(sizes=top_type_car.cnt, label=top_type_car.type_car, color=colors, alpha=.8)\n",
    "plt.title('Treemap Most Sold Types Car')\n",
    "plt.axis('off')\n",
    "plt.show()"
   ]
  },
  {
   "cell_type": "markdown",
   "id": "8788289a",
   "metadata": {},
   "source": [
    "## Distribution of Status Type"
   ]
  },
  {
   "cell_type": "code",
   "execution_count": 46,
   "id": "a3ac90ef",
   "metadata": {},
   "outputs": [
    {
     "data": {
      "text/plain": [
       "Operational                27132\n",
       "Incomplete                  1683\n",
       "Write-off                   1485\n",
       "Expired with Due Amount      104\n",
       "Termination in progress        2\n",
       "Name: status, dtype: int64"
      ]
     },
     "execution_count": 46,
     "metadata": {},
     "output_type": "execute_result"
    }
   ],
   "source": [
    "df.status.value_counts()"
   ]
  },
  {
   "cell_type": "code",
   "execution_count": 47,
   "id": "25e37069",
   "metadata": {
    "scrolled": true
   },
   "outputs": [
    {
     "data": {
      "text/plain": [
       "Operational               0.89\n",
       "Incomplete                0.06\n",
       "Write-off                 0.05\n",
       "Expired with Due Amount   0.00\n",
       "Termination in progress   0.00\n",
       "Name: status, dtype: float64"
      ]
     },
     "execution_count": 47,
     "metadata": {},
     "output_type": "execute_result"
    }
   ],
   "source": [
    "df.status.value_counts(normalize = True)"
   ]
  },
  {
   "cell_type": "code",
   "execution_count": 48,
   "id": "4c134304",
   "metadata": {},
   "outputs": [],
   "source": [
    "status_dist = df.status.value_counts(normalize = True).reset_index().rename(columns = {'index' : 'status'\n",
    "                                                                        ,'status' : 'percentage'})"
   ]
  },
  {
   "cell_type": "code",
   "execution_count": 49,
   "id": "23803471",
   "metadata": {},
   "outputs": [
    {
     "data": {
      "image/png": "[encoded data removed]",
      "text/plain": [
       "<Figure size 1000x600 with 1 Axes>"
      ]
     },
     "metadata": {},
     "output_type": "display_data"
    }
   ],
   "source": [
    "plt.figure(figsize=(10, 6))\n",
    "plt.pie(status_dist['percentage'], autopct='%1.1f%%', startangle=140)\n",
    "plt.legend(status_dist['status'], title='Status', loc='upper right')\n",
    "plt.title('Distribusi status')\n",
    "plt.axis('equal')\n",
    "plt.show()"
   ]
  },
  {
   "cell_type": "markdown",
   "id": "81b0f1a4",
   "metadata": {},
   "source": [
    "## Top 10 Most Frequent Customers"
   ]
  },
  {
   "cell_type": "code",
   "execution_count": 50,
   "id": "008119df",
   "metadata": {},
   "outputs": [
    {
     "data": {
      "text/html": [
       "<div>\n",
       "<style scoped>\n",
       "    .dataframe tbody tr th:only-of-type {\n",
       "        vertical-align: middle;\n",
       "    }\n",
       "\n",
       "    .dataframe tbody tr th {\n",
       "        vertical-align: top;\n",
       "    }\n",
       "\n",
       "    .dataframe thead th {\n",
       "        text-align: right;\n",
       "    }\n",
       "</style>\n",
       "<table border=\"1\" class=\"dataframe\">\n",
       "  <thead>\n",
       "    <tr style=\"text-align: right;\">\n",
       "      <th></th>\n",
       "      <th>customer_name</th>\n",
       "      <th>dealer_name</th>\n",
       "      <th>unit_description</th>\n",
       "      <th>due_date</th>\n",
       "      <th>status</th>\n",
       "      <th>installment</th>\n",
       "      <th>cost_price</th>\n",
       "      <th>brand_name</th>\n",
       "      <th>type_car</th>\n",
       "      <th>year_of_car</th>\n",
       "    </tr>\n",
       "  </thead>\n",
       "  <tbody>\n",
       "    <tr>\n",
       "      <th>0</th>\n",
       "      <td>AMRUL QOIS</td>\n",
       "      <td>HYUNDAI MAMPANG</td>\n",
       "      <td>HYUNDAI, CRETA PRIME 1.5 SINGLE TONE IVT, 2022</td>\n",
       "      <td>10-27-2024</td>\n",
       "      <td>Operational</td>\n",
       "      <td>8085000.00</td>\n",
       "      <td>404000000.00</td>\n",
       "      <td>HYUNDAI</td>\n",
       "      <td>CRETA PRIME 1.5 SINGLE TONE IVT</td>\n",
       "      <td>2022</td>\n",
       "    </tr>\n",
       "    <tr>\n",
       "      <th>1</th>\n",
       "      <td>AZIZATUL MUNIFAH</td>\n",
       "      <td>HONDA MANDALASENA</td>\n",
       "      <td>HONDA, ALL NEW BR-V E CVT, 2023</td>\n",
       "      <td>11-10-2024</td>\n",
       "      <td>Operational</td>\n",
       "      <td>4858000.00</td>\n",
       "      <td>330450000.00</td>\n",
       "      <td>HONDA</td>\n",
       "      <td>ALL NEW BR-V E CVT</td>\n",
       "      <td>2023</td>\n",
       "    </tr>\n",
       "  </tbody>\n",
       "</table>\n",
       "</div>"
      ],
      "text/plain": [
       "       customer_name        dealer_name  \\\n",
       "0         AMRUL QOIS    HYUNDAI MAMPANG   \n",
       "1   AZIZATUL MUNIFAH  HONDA MANDALASENA   \n",
       "\n",
       "                                 unit_description    due_date       status  \\\n",
       "0  HYUNDAI, CRETA PRIME 1.5 SINGLE TONE IVT, 2022  10-27-2024  Operational   \n",
       "1                 HONDA, ALL NEW BR-V E CVT, 2023  11-10-2024  Operational   \n",
       "\n",
       "   installment   cost_price brand_name                         type_car  \\\n",
       "0   8085000.00 404000000.00    HYUNDAI  CRETA PRIME 1.5 SINGLE TONE IVT   \n",
       "1   4858000.00 330450000.00      HONDA               ALL NEW BR-V E CVT   \n",
       "\n",
       "  year_of_car  \n",
       "0        2022  \n",
       "1        2023  "
      ]
     },
     "execution_count": 50,
     "metadata": {},
     "output_type": "execute_result"
    }
   ],
   "source": [
    "df.head(2)"
   ]
  },
  {
   "cell_type": "code",
   "execution_count": 53,
   "id": "dbc8bc86",
   "metadata": {},
   "outputs": [],
   "source": [
    "most_cust = df.groupby('customer_name').agg({'dealer_name' : 'count'}).reset_index()\\\n",
    ".rename(columns ={'dealer_name' : 'cnt'}).sort_values('cnt',ascending = False)\n",
    "top_most_cust = most_cust.head(10)"
   ]
  },
  {
   "cell_type": "code",
   "execution_count": 54,
   "id": "b5b781d1",
   "metadata": {},
   "outputs": [
    {
     "data": {
      "text/html": [
       "<div>\n",
       "<style scoped>\n",
       "    .dataframe tbody tr th:only-of-type {\n",
       "        vertical-align: middle;\n",
       "    }\n",
       "\n",
       "    .dataframe tbody tr th {\n",
       "        vertical-align: top;\n",
       "    }\n",
       "\n",
       "    .dataframe thead th {\n",
       "        text-align: right;\n",
       "    }\n",
       "</style>\n",
       "<table border=\"1\" class=\"dataframe\">\n",
       "  <thead>\n",
       "    <tr style=\"text-align: right;\">\n",
       "      <th></th>\n",
       "      <th>customer_name</th>\n",
       "      <th>cnt</th>\n",
       "    </tr>\n",
       "  </thead>\n",
       "  <tbody>\n",
       "    <tr>\n",
       "      <th>18876</th>\n",
       "      <td>PT. TRANS ARMADA INDONESIA</td>\n",
       "      <td>46</td>\n",
       "    </tr>\n",
       "    <tr>\n",
       "      <th>18585</th>\n",
       "      <td>PT. IMORA MOTOR</td>\n",
       "      <td>27</td>\n",
       "    </tr>\n",
       "    <tr>\n",
       "      <th>10042</th>\n",
       "      <td>HENDRA</td>\n",
       "      <td>21</td>\n",
       "    </tr>\n",
       "    <tr>\n",
       "      <th>16223</th>\n",
       "      <td>MULYADI</td>\n",
       "      <td>21</td>\n",
       "    </tr>\n",
       "    <tr>\n",
       "      <th>23023</th>\n",
       "      <td>SRI WAHYUNI</td>\n",
       "      <td>19</td>\n",
       "    </tr>\n",
       "    <tr>\n",
       "      <th>18408</th>\n",
       "      <td>PT. ARTA BUMI MOTOR</td>\n",
       "      <td>18</td>\n",
       "    </tr>\n",
       "    <tr>\n",
       "      <th>18888</th>\n",
       "      <td>PT. UMARA NIKMAT BOGA</td>\n",
       "      <td>15</td>\n",
       "    </tr>\n",
       "    <tr>\n",
       "      <th>18512</th>\n",
       "      <td>PT. DUA RAJA BALOHAN</td>\n",
       "      <td>15</td>\n",
       "    </tr>\n",
       "    <tr>\n",
       "      <th>17589</th>\n",
       "      <td>NURHAYATI</td>\n",
       "      <td>14</td>\n",
       "    </tr>\n",
       "    <tr>\n",
       "      <th>23898</th>\n",
       "      <td>SUTRISNO</td>\n",
       "      <td>14</td>\n",
       "    </tr>\n",
       "  </tbody>\n",
       "</table>\n",
       "</div>"
      ],
      "text/plain": [
       "                    customer_name  cnt\n",
       "18876  PT. TRANS ARMADA INDONESIA   46\n",
       "18585             PT. IMORA MOTOR   27\n",
       "10042                      HENDRA   21\n",
       "16223                     MULYADI   21\n",
       "23023                 SRI WAHYUNI   19\n",
       "18408         PT. ARTA BUMI MOTOR   18\n",
       "18888       PT. UMARA NIKMAT BOGA   15\n",
       "18512        PT. DUA RAJA BALOHAN   15\n",
       "17589                   NURHAYATI   14\n",
       "23898                    SUTRISNO   14"
      ]
     },
     "execution_count": 54,
     "metadata": {},
     "output_type": "execute_result"
    }
   ],
   "source": [
    "top_most_cust"
   ]
  },
  {
   "cell_type": "code",
   "execution_count": 55,
   "id": "b0d4e268",
   "metadata": {},
   "outputs": [
    {
     "data": {
      "image/png": "[encoded data removed]",
      "text/plain": [
       "<Figure size 1000x600 with 1 Axes>"
      ]
     },
     "metadata": {},
     "output_type": "display_data"
    }
   ],
   "source": [
    "plt.figure(figsize=(10, 6))\n",
    "sns.barplot(y='customer_name', x='cnt', data=top_most_cust, palette='viridis')\n",
    "plt.title('Top 10 Customer Name')\n",
    "plt.xlabel('Jumlah')\n",
    "plt.ylabel('Kategori')\n",
    "plt.show()"
   ]
  },
  {
   "cell_type": "markdown",
   "id": "338f2f90",
   "metadata": {},
   "source": [
    "## Top 10 Most Frequent Dealers"
   ]
  },
  {
   "cell_type": "code",
   "execution_count": 56,
   "id": "078f907d",
   "metadata": {},
   "outputs": [],
   "source": [
    "most_dealer = df.groupby('dealer_name').agg({'customer_name' : 'count'}).reset_index()\\\n",
    ".rename(columns ={'customer_name' : 'cnt'}).sort_values('cnt',ascending = False)\n",
    "top_most_dealer = most_dealer.head(10)"
   ]
  },
  {
   "cell_type": "code",
   "execution_count": 57,
   "id": "f58597f2",
   "metadata": {},
   "outputs": [
    {
     "data": {
      "text/html": [
       "<div>\n",
       "<style scoped>\n",
       "    .dataframe tbody tr th:only-of-type {\n",
       "        vertical-align: middle;\n",
       "    }\n",
       "\n",
       "    .dataframe tbody tr th {\n",
       "        vertical-align: top;\n",
       "    }\n",
       "\n",
       "    .dataframe thead th {\n",
       "        text-align: right;\n",
       "    }\n",
       "</style>\n",
       "<table border=\"1\" class=\"dataframe\">\n",
       "  <thead>\n",
       "    <tr style=\"text-align: right;\">\n",
       "      <th></th>\n",
       "      <th>dealer_name</th>\n",
       "      <th>cnt</th>\n",
       "    </tr>\n",
       "  </thead>\n",
       "  <tbody>\n",
       "    <tr>\n",
       "      <th>419</th>\n",
       "      <td>HONDA CIKARANG</td>\n",
       "      <td>1288</td>\n",
       "    </tr>\n",
       "    <tr>\n",
       "      <th>536</th>\n",
       "      <td>HONDA WILTOP JAMBI</td>\n",
       "      <td>1094</td>\n",
       "    </tr>\n",
       "    <tr>\n",
       "      <th>479</th>\n",
       "      <td>HONDA NAGOYA</td>\n",
       "      <td>655</td>\n",
       "    </tr>\n",
       "    <tr>\n",
       "      <th>515</th>\n",
       "      <td>HONDA SURABAYA CENTER</td>\n",
       "      <td>594</td>\n",
       "    </tr>\n",
       "    <tr>\n",
       "      <th>381</th>\n",
       "      <td>HONDA AMARTHA SAMARINDA</td>\n",
       "      <td>592</td>\n",
       "    </tr>\n",
       "    <tr>\n",
       "      <th>445</th>\n",
       "      <td>HONDA JAKARTA CENTER</td>\n",
       "      <td>568</td>\n",
       "    </tr>\n",
       "    <tr>\n",
       "      <th>395</th>\n",
       "      <td>HONDA ARISTA PEKANBARU</td>\n",
       "      <td>489</td>\n",
       "    </tr>\n",
       "    <tr>\n",
       "      <th>382</th>\n",
       "      <td>HONDA ANUGERAH KASIH PUTERA</td>\n",
       "      <td>472</td>\n",
       "    </tr>\n",
       "    <tr>\n",
       "      <th>418</th>\n",
       "      <td>HONDA CIBUBUR</td>\n",
       "      <td>470</td>\n",
       "    </tr>\n",
       "    <tr>\n",
       "      <th>460</th>\n",
       "      <td>HONDA MAKASSAR INDAH</td>\n",
       "      <td>424</td>\n",
       "    </tr>\n",
       "  </tbody>\n",
       "</table>\n",
       "</div>"
      ],
      "text/plain": [
       "                     dealer_name   cnt\n",
       "419               HONDA CIKARANG  1288\n",
       "536           HONDA WILTOP JAMBI  1094\n",
       "479                 HONDA NAGOYA   655\n",
       "515        HONDA SURABAYA CENTER   594\n",
       "381      HONDA AMARTHA SAMARINDA   592\n",
       "445         HONDA JAKARTA CENTER   568\n",
       "395       HONDA ARISTA PEKANBARU   489\n",
       "382  HONDA ANUGERAH KASIH PUTERA   472\n",
       "418                HONDA CIBUBUR   470\n",
       "460         HONDA MAKASSAR INDAH   424"
      ]
     },
     "execution_count": 57,
     "metadata": {},
     "output_type": "execute_result"
    }
   ],
   "source": [
    "top_most_dealer"
   ]
  },
  {
   "cell_type": "code",
   "execution_count": 58,
   "id": "8cc00924",
   "metadata": {},
   "outputs": [
    {
     "data": {
      "image/png": "[encoded data removed]",
      "text/plain": [
       "<Figure size 1000x600 with 1 Axes>"
      ]
     },
     "metadata": {},
     "output_type": "display_data"
    }
   ],
   "source": [
    "plt.figure(figsize=(10, 6))\n",
    "sns.barplot(y='dealer_name', x='cnt', data=top_most_dealer, palette='viridis')\n",
    "plt.title('Top 10 Dealer Name')\n",
    "plt.xlabel('Jumlah')\n",
    "plt.ylabel('Kategori')\n",
    "plt.show()"
   ]
  },
  {
   "cell_type": "code",
   "execution_count": null,
   "id": "1898057d",
   "metadata": {},
   "outputs": [],
   "source": []
  },
  {
   "cell_type": "code",
   "execution_count": null,
   "id": "7f4db045",
   "metadata": {},
   "outputs": [],
   "source": []
  }
 ],
 "metadata": {
  "kernelspec": {
   "display_name": "Python 3 (ipykernel)",
   "language": "python",
   "name": "python3"
  },
  "language_info": {
   "codemirror_mode": {
    "name": "ipython",
    "version": 3
   },
   "file_extension": ".py",
   "mimetype": "text/x-python",
   "name": "python",
   "nbconvert_exporter": "python",
   "pygments_lexer": "ipython3",
   "version": "3.10.9"
  }
 },
 "nbformat": 4,
 "nbformat_minor": 5
}
